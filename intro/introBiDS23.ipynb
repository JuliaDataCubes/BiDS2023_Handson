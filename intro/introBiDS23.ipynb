{
 "cells": [
  {
   "cell_type": "markdown",
   "metadata": {},
   "source": [
    "# Large Geospatial data handling in Julia\n",
    "### BiDS BIG DATA FROM SPACE 2023\n",
    "- November 6, 2023\n",
    "- 2:00 PM - 5:30 PM\n",
    "- Vienna, Austria"
   ]
  },
  {
   "cell_type": "markdown",
   "metadata": {},
   "source": [
    "> Lazaro Alonso  & Felix Cremer\n",
    "> - <font color = teal> **Max Planck Institute for Biogeochemistry** </font>\n",
    "> - Model-Data Integration Group \n",
    "> - <font color = orange> **ELLIS Unit Jena** </font>\n",
    "\n",
    ">  lalonso@bgc-jena.mpg.de\n",
    "\n",
    "Find me also on social media:\n",
    "\n",
    "<img src=\"X_logo_2023.svg\" alt=\"X\" width=\"16\"/>\n",
    "@LazarusAlon\n",
    "\n",
    "<img src=\"github-mark-white.svg\" width=20/> lazarusA \n"
   ]
  },
  {
   "cell_type": "markdown",
   "metadata": {},
   "source": [
    "#### References:\n",
    "Get Julia:\n",
    "> https://julialang.org/downloads/\n",
    "\n",
    "Start learning:\n",
    "\n",
    "- https://docs.julialang.org\n",
    "- https://docs.julialang.org/en/v1/manual/performance-tips/\n",
    "\n",
    "> https://juliadatascience.io\n",
    "    > by Jose Storopoli, Rik Huijzer and Lazaro Alonso"
   ]
  },
  {
   "cell_type": "markdown",
   "metadata": {},
   "source": [
    "### Agenda\n",
    "\n",
    "|   Time   |           Topic           |\n",
    "|----------|---------------------------|\n",
    "|  14:00   | <font color = orangered> **Introduction to Julia**</font>    |\n",
    "|  14:30   | <font color = orangered> **Julia Geo Ecosystem**</font>       |\n",
    "|  15:00   | Raster Data Loading       |\n",
    "|  15:30   | Coffee Break              |\n",
    "|  15:50   | Raster Data Analysis      |\n",
    "|  16:10   | Hands-On Challenge <font color = dodgerblue> **_Plotting Data Cubes_**</font>       |\n"
   ]
  },
  {
   "cell_type": "markdown",
   "metadata": {},
   "source": [
    "## Introduction to Julia\n",
    "Again, if you don't have it, please install Julia:\n",
    "> https://julialang.org/downloads/\n",
    "\n",
    "and the editor I will be using is vscode:\n",
    "\n",
    "> https://code.visualstudio.com"
   ]
  },
  {
   "cell_type": "markdown",
   "metadata": {},
   "source": [
    "## What is and why Julia?\n",
    "\n",
    "* Published around 2012 initially developped at MIT\n",
    "* Just in Time compiled\n",
    "* Optionally typed\n",
    "* Gives you the best of C, Matlab and Python\n",
    "* Function oriented not object oriented\n",
    "* solves the two language problem"
   ]
  },
  {
   "cell_type": "markdown",
   "metadata": {},
   "source": [
    "### Julia’s Syntax in a nutshell\n",
    "- **Variables**\n",
    "- struct\n",
    "- Boolean Operators and Numeric comparisons\n",
    "- Functions\n",
    "- Multiple Dispatch\n",
    "- Keyword arguments\n",
    "- Anonymous Functions\n",
    "- Conditionals"
   ]
  },
  {
   "cell_type": "markdown",
   "metadata": {},
   "source": [
    "#### Project Management\n",
    "\n",
    "```shell\n",
    "] activate .\n",
    "] add package\n",
    "] dev --local package\n",
    "; # get you into shell mode /terminal\n",
    "julia> ?\n",
    "help?>\n",
    "```"
   ]
  },
  {
   "cell_type": "markdown",
   "metadata": {},
   "source": [
    "#### variables"
   ]
  },
  {
   "cell_type": "code",
   "execution_count": 1,
   "metadata": {},
   "outputs": [
    {
     "data": {
      "text/plain": [
       "12"
      ]
     },
     "metadata": {},
     "output_type": "display_data"
    }
   ],
   "source": [
    "name = \"Julia\"\n",
    "age = 12 # years"
   ]
  },
  {
   "cell_type": "code",
   "execution_count": 2,
   "metadata": {},
   "outputs": [
    {
     "data": {
      "text/plain": [
       "\"Julia\""
      ]
     },
     "metadata": {},
     "output_type": "display_data"
    }
   ],
   "source": [
    "name"
   ]
  },
  {
   "cell_type": "code",
   "execution_count": 3,
   "metadata": {},
   "outputs": [
    {
     "data": {
      "text/plain": [
       "120"
      ]
     },
     "metadata": {},
     "output_type": "display_data"
    }
   ],
   "source": [
    "# operations on variables, addition, multiplication\n",
    "10*age"
   ]
  },
  {
   "cell_type": "code",
   "execution_count": 4,
   "metadata": {},
   "outputs": [
    {
     "data": {
      "text/plain": [
       "22"
      ]
     },
     "metadata": {},
     "output_type": "display_data"
    }
   ],
   "source": [
    "10 + age"
   ]
  },
  {
   "cell_type": "markdown",
   "metadata": {},
   "source": [
    "Q. What type of variables are those? \n",
    "> Use `typeof` and find out. "
   ]
  },
  {
   "cell_type": "code",
   "execution_count": 6,
   "metadata": {},
   "outputs": [
    {
     "data": {
      "text/plain": [
       "Int64"
      ]
     },
     "metadata": {},
     "output_type": "display_data"
    }
   ],
   "source": [
    "typeof(age)"
   ]
  },
  {
   "cell_type": "code",
   "execution_count": 7,
   "metadata": {},
   "outputs": [
    {
     "data": {
      "text/plain": [
       "String"
      ]
     },
     "metadata": {},
     "output_type": "display_data"
    }
   ],
   "source": [
    "typeof(name)"
   ]
  },
  {
   "cell_type": "markdown",
   "metadata": {},
   "source": [
    "#### struct"
   ]
  },
  {
   "cell_type": "markdown",
   "metadata": {},
   "source": [
    "Having variables around without any sort of hierarchy or relationships is not ideal. In Julia, we can define that kind of structured data with a struct (also known as a composite type).\n",
    "\n",
    "_Basic, basic, of course the following is not the whole story, but is enough to get us started_\n",
    "\n",
    "- https://docs.julialang.org/en/v1/manual/performance-tips/#Type-declarations"
   ]
  },
  {
   "cell_type": "code",
   "execution_count": 8,
   "metadata": {},
   "outputs": [],
   "source": [
    "struct Language\n",
    "    name::String\n",
    "    title::String\n",
    "    year_of_birth::Int64\n",
    "    fast::Bool\n",
    "end"
   ]
  },
  {
   "cell_type": "code",
   "execution_count": 9,
   "metadata": {},
   "outputs": [
    {
     "data": {
      "text/plain": [
       "(:name, :title, :year_of_birth, :fast)"
      ]
     },
     "metadata": {},
     "output_type": "display_data"
    }
   ],
   "source": [
    "fieldnames(Language)"
   ]
  },
  {
   "cell_type": "markdown",
   "metadata": {},
   "source": [
    "Q. How to use them?\n",
    "> Instantiate as in:"
   ]
  },
  {
   "cell_type": "code",
   "execution_count": 10,
   "metadata": {},
   "outputs": [
    {
     "data": {
      "text/plain": [
       "Language(\"Julia\", \"Rapidus\", 2012, true)"
      ]
     },
     "metadata": {},
     "output_type": "display_data"
    }
   ],
   "source": [
    "julia = Language(\"Julia\", \"Rapidus\", 2012, true)"
   ]
  },
  {
   "cell_type": "code",
   "execution_count": 11,
   "metadata": {},
   "outputs": [
    {
     "data": {
      "text/plain": [
       "Language(\"Python\", \"Letargicus\", 1991, false)"
      ]
     },
     "metadata": {},
     "output_type": "display_data"
    }
   ],
   "source": [
    "python = Language(\"Python\", \"Letargicus\", 1991, false)"
   ]
  },
  {
   "cell_type": "markdown",
   "metadata": {},
   "source": [
    "#### mutable struct"
   ]
  },
  {
   "cell_type": "markdown",
   "metadata": {},
   "source": [
    "<font color=red>We can’t change their values once they are instantiated.</font>\n",
    "But, what if I want to update some of those variables, then we use a `mutable struct`."
   ]
  },
  {
   "cell_type": "code",
   "execution_count": 12,
   "metadata": {},
   "outputs": [],
   "source": [
    "mutable struct MutableLanguage\n",
    "    name::String\n",
    "    title::String\n",
    "    year_of_birth::Int64\n",
    "    fast::Bool\n",
    "end"
   ]
  },
  {
   "cell_type": "code",
   "execution_count": 13,
   "metadata": {},
   "outputs": [
    {
     "data": {
      "text/plain": [
       "MutableLanguage(\"Julia\", \"Rapidus\", 2012, true)"
      ]
     },
     "metadata": {},
     "output_type": "display_data"
    }
   ],
   "source": [
    "julia_mutable = MutableLanguage(\"Julia\", \"Rapidus\", 2012, true)"
   ]
  },
  {
   "cell_type": "code",
   "execution_count": 14,
   "metadata": {},
   "outputs": [
    {
     "data": {
      "text/plain": [
       "\"Python Obliteratus\""
      ]
     },
     "metadata": {},
     "output_type": "display_data"
    }
   ],
   "source": [
    "julia_mutable.title = \"Python Obliteratus\""
   ]
  },
  {
   "cell_type": "code",
   "execution_count": 15,
   "metadata": {},
   "outputs": [
    {
     "data": {
      "text/plain": [
       "MutableLanguage(\"Julia\", \"Python Obliteratus\", 2012, true)"
      ]
     },
     "metadata": {},
     "output_type": "display_data"
    }
   ],
   "source": [
    "julia_mutable"
   ]
  },
  {
   "cell_type": "markdown",
   "metadata": {},
   "source": [
    "####  **Boolean Operators and Numeric comparisons**"
   ]
  },
  {
   "cell_type": "code",
   "execution_count": 16,
   "metadata": {},
   "outputs": [
    {
     "data": {
      "text/plain": [
       "false"
      ]
     },
     "metadata": {},
     "output_type": "display_data"
    }
   ],
   "source": [
    "!true"
   ]
  },
  {
   "cell_type": "code",
   "execution_count": 17,
   "metadata": {},
   "outputs": [
    {
     "data": {
      "text/plain": [
       "true"
      ]
     },
     "metadata": {},
     "output_type": "display_data"
    }
   ],
   "source": [
    "(false && true) || (!false)"
   ]
  },
  {
   "cell_type": "code",
   "execution_count": 18,
   "metadata": {},
   "outputs": [
    {
     "data": {
      "text/plain": [
       "true"
      ]
     },
     "metadata": {},
     "output_type": "display_data"
    }
   ],
   "source": [
    "(6 isa Int64) && (6 isa Real)"
   ]
  },
  {
   "cell_type": "code",
   "execution_count": 19,
   "metadata": {},
   "outputs": [
    {
     "data": {
      "text/plain": [
       "true"
      ]
     },
     "metadata": {},
     "output_type": "display_data"
    }
   ],
   "source": [
    "# equality\n",
    "1 == 1"
   ]
  },
  {
   "cell_type": "code",
   "execution_count": 20,
   "metadata": {},
   "outputs": [
    {
     "data": {
      "text/plain": [
       "true"
      ]
     },
     "metadata": {},
     "output_type": "display_data"
    }
   ],
   "source": [
    "# less than\n",
    "1<2"
   ]
  },
  {
   "cell_type": "code",
   "execution_count": 21,
   "metadata": {},
   "outputs": [
    {
     "data": {
      "text/plain": [
       "true"
      ]
     },
     "metadata": {},
     "output_type": "display_data"
    }
   ],
   "source": [
    "# less than or equal to\n",
    "3.14 <= 3.14"
   ]
  },
  {
   "cell_type": "code",
   "execution_count": 22,
   "metadata": {},
   "outputs": [
    {
     "data": {
      "text/plain": [
       "true"
      ]
     },
     "metadata": {},
     "output_type": "display_data"
    }
   ],
   "source": [
    "# mix with boolean \n",
    "(1 != 10) || (3.14 <= 2.71)"
   ]
  },
  {
   "cell_type": "markdown",
   "metadata": {},
   "source": [
    "#### Functions & Multiple Dispatch"
   ]
  },
  {
   "cell_type": "code",
   "execution_count": 23,
   "metadata": {},
   "outputs": [
    {
     "data": {
      "text/plain": [
       "f_name (generic function with 1 method)"
      ]
     },
     "metadata": {},
     "output_type": "display_data"
    }
   ],
   "source": [
    "f_name(arg1, arg2) = arg1 + arg2"
   ]
  },
  {
   "cell_type": "code",
   "execution_count": 24,
   "metadata": {},
   "outputs": [
    {
     "data": {
      "text/plain": [
       "fuction_name (generic function with 1 method)"
      ]
     },
     "metadata": {},
     "output_type": "display_data"
    }
   ],
   "source": [
    "function fuction_name(arg1, arg2)\n",
    "    return arg1 + arg2\n",
    "end"
   ]
  },
  {
   "cell_type": "code",
   "execution_count": 25,
   "metadata": {},
   "outputs": [
    {
     "data": {
      "text/plain": [
       "f (generic function with 1 method)"
      ]
     },
     "metadata": {},
     "output_type": "display_data"
    }
   ],
   "source": [
    "f(x,y) = x + y"
   ]
  },
  {
   "cell_type": "code",
   "execution_count": 26,
   "metadata": {},
   "outputs": [
    {
     "data": {
      "text/plain": [
       "3"
      ]
     },
     "metadata": {},
     "output_type": "display_data"
    }
   ],
   "source": [
    "f(1,2)"
   ]
  },
  {
   "cell_type": "code",
   "execution_count": 27,
   "metadata": {},
   "outputs": [
    {
     "data": {
      "text/plain": [
       "3.0"
      ]
     },
     "metadata": {},
     "output_type": "display_data"
    }
   ],
   "source": [
    "f(2.0, 1.0)"
   ]
  },
  {
   "cell_type": "markdown",
   "metadata": {},
   "source": [
    "<font color = red > type declarations </font> Multiple dispatch\n",
    "\n",
    "- https://docs.julialang.org/en/v1/manual/methods/#Defining-Methods"
   ]
  },
  {
   "cell_type": "code",
   "execution_count": 28,
   "metadata": {},
   "outputs": [
    {
     "data": {
      "text/plain": [
       "round_number (generic function with 1 method)"
      ]
     },
     "metadata": {},
     "output_type": "display_data"
    }
   ],
   "source": [
    "function round_number(x::Float64)\n",
    "    return round(x)\n",
    "end"
   ]
  },
  {
   "cell_type": "code",
   "execution_count": 29,
   "metadata": {},
   "outputs": [
    {
     "data": {
      "text/plain": [
       "round_number (generic function with 2 methods)"
      ]
     },
     "metadata": {},
     "output_type": "display_data"
    }
   ],
   "source": [
    "function round_number(x::Int64)\n",
    "    return x\n",
    "end"
   ]
  },
  {
   "cell_type": "code",
   "execution_count": 49,
   "metadata": {},
   "outputs": [
    {
     "data": {
      "text/plain": [
       "2.0"
      ]
     },
     "metadata": {},
     "output_type": "display_data"
    }
   ],
   "source": [
    "round_number(2.1)"
   ]
  },
  {
   "cell_type": "code",
   "execution_count": 52,
   "metadata": {},
   "outputs": [
    {
     "data": {
      "text/plain": [
       "10-element Vector{Float64}:\n",
       " 6.0\n",
       " 7.0\n",
       " 0.0\n",
       " 7.0\n",
       " 9.0\n",
       " 2.0\n",
       " 5.0\n",
       " 6.0\n",
       " 6.0\n",
       " 5.0"
      ]
     },
     "metadata": {},
     "output_type": "display_data"
    }
   ],
   "source": [
    "# broadcasting\n",
    "round_number.(10*rand(10))"
   ]
  },
  {
   "cell_type": "markdown",
   "metadata": {},
   "source": [
    "**multiple return values**"
   ]
  },
  {
   "cell_type": "code",
   "execution_count": 30,
   "metadata": {},
   "outputs": [
    {
     "data": {
      "text/plain": [
       "add_multiply (generic function with 1 method)"
      ]
     },
     "metadata": {},
     "output_type": "display_data"
    }
   ],
   "source": [
    "function add_multiply(x, y)\n",
    "    addition = x + y\n",
    "    multiplication = x * y\n",
    "    return addition, multiplication\n",
    "end"
   ]
  },
  {
   "cell_type": "code",
   "execution_count": 31,
   "metadata": {},
   "outputs": [
    {
     "data": {
      "text/plain": [
       "(3, 2)"
      ]
     },
     "metadata": {},
     "output_type": "display_data"
    }
   ],
   "source": [
    "add_multiply(1, 2)"
   ]
  },
  {
   "cell_type": "code",
   "execution_count": 32,
   "metadata": {},
   "outputs": [
    {
     "data": {
      "text/plain": [
       "(3, 2)"
      ]
     },
     "metadata": {},
     "output_type": "display_data"
    }
   ],
   "source": [
    "out = add_multiply(1, 2)"
   ]
  },
  {
   "cell_type": "code",
   "execution_count": 33,
   "metadata": {},
   "outputs": [
    {
     "data": {
      "text/plain": [
       "3"
      ]
     },
     "metadata": {},
     "output_type": "display_data"
    }
   ],
   "source": [
    "first(out)"
   ]
  },
  {
   "cell_type": "code",
   "execution_count": 34,
   "metadata": {},
   "outputs": [
    {
     "data": {
      "text/plain": [
       "2"
      ]
     },
     "metadata": {},
     "output_type": "display_data"
    }
   ],
   "source": [
    "last(out)"
   ]
  },
  {
   "cell_type": "markdown",
   "metadata": {},
   "source": [
    "#### Keyword arguments"
   ]
  },
  {
   "cell_type": "code",
   "execution_count": 36,
   "metadata": {},
   "outputs": [
    {
     "data": {
      "text/plain": [
       "logarithm (generic function with 1 method)"
      ]
     },
     "metadata": {},
     "output_type": "display_data"
    }
   ],
   "source": [
    "function logarithm(x::Real; base::Real=2.7182818284590)\n",
    "    return log(base, x)\n",
    "end"
   ]
  },
  {
   "cell_type": "code",
   "execution_count": 37,
   "metadata": {},
   "outputs": [
    {
     "data": {
      "text/plain": [
       "2.3025850929940845"
      ]
     },
     "metadata": {},
     "output_type": "display_data"
    }
   ],
   "source": [
    "logarithm(10)"
   ]
  },
  {
   "cell_type": "code",
   "execution_count": 38,
   "metadata": {},
   "outputs": [
    {
     "data": {
      "text/plain": [
       "3.3219280948873626"
      ]
     },
     "metadata": {},
     "output_type": "display_data"
    }
   ],
   "source": [
    "logarithm(10; base=2)"
   ]
  },
  {
   "cell_type": "markdown",
   "metadata": {},
   "source": [
    "#### Anonymous Functions"
   ]
  },
  {
   "cell_type": "markdown",
   "metadata": {},
   "source": [
    "Often we don’t care about the name of the function and want to quickly make one."
   ]
  },
  {
   "cell_type": "code",
   "execution_count": 40,
   "metadata": {},
   "outputs": [
    {
     "data": {
      "text/plain": [
       "2.0"
      ]
     },
     "metadata": {},
     "output_type": "display_data"
    }
   ],
   "source": [
    "map(x -> 2.7182818284590^x, logarithm(2))"
   ]
  },
  {
   "cell_type": "markdown",
   "metadata": {},
   "source": [
    "#### Conditionals"
   ]
  },
  {
   "cell_type": "markdown",
   "metadata": {},
   "source": [
    "Let's compare two numbers, `a` and `b`."
   ]
  },
  {
   "cell_type": "code",
   "execution_count": 41,
   "metadata": {},
   "outputs": [
    {
     "data": {
      "text/plain": [
       "compare (generic function with 1 method)"
      ]
     },
     "metadata": {},
     "output_type": "display_data"
    }
   ],
   "source": [
    "function compare(a, b)\n",
    "    if a < b\n",
    "        \"a is less than b\"\n",
    "    elseif a > b\n",
    "        \"a is greater than b\"\n",
    "    else\n",
    "        \"a is equal to b\"\n",
    "    end\n",
    "end"
   ]
  },
  {
   "cell_type": "code",
   "execution_count": 42,
   "metadata": {},
   "outputs": [
    {
     "data": {
      "text/plain": [
       "\"a is equal to b\""
      ]
     },
     "metadata": {},
     "output_type": "display_data"
    }
   ],
   "source": [
    "compare(3.14, 3.14)"
   ]
  },
  {
   "cell_type": "markdown",
   "metadata": {},
   "source": [
    "A pattern that I use a lot is the following:"
   ]
  },
  {
   "cell_type": "code",
   "execution_count": 43,
   "metadata": {},
   "outputs": [
    {
     "data": {
      "text/plain": [
       "compare_ternary (generic function with 1 method)"
      ]
     },
     "metadata": {},
     "output_type": "display_data"
    }
   ],
   "source": [
    "function compare_ternary(a, b)\n",
    "    a < b ? \"a is less than b\" : a > b ? \"a is greater than b\" : \"a is equal to b\"\n",
    "end"
   ]
  },
  {
   "cell_type": "code",
   "execution_count": 44,
   "metadata": {},
   "outputs": [
    {
     "data": {
      "text/plain": [
       "\"a is equal to b\""
      ]
     },
     "metadata": {},
     "output_type": "display_data"
    }
   ],
   "source": [
    "compare_ternary(3.14, 3.14)"
   ]
  },
  {
   "cell_type": "markdown",
   "metadata": {},
   "source": [
    "**The `for` loop ! Use it!**"
   ]
  },
  {
   "cell_type": "code",
   "execution_count": 45,
   "metadata": {},
   "outputs": [
    {
     "name": "stdout",
     "output_type": "stream",
     "text": [
      "1\n",
      "2\n",
      "3\n",
      "4\n",
      "5\n"
     ]
    }
   ],
   "source": [
    "for i in 1:5\n",
    "    println(i)\n",
    "end"
   ]
  },
  {
   "cell_type": "markdown",
   "metadata": {},
   "source": [
    "#### Native Data Structures\n",
    "- **String**\n",
    "- Tuple\n",
    "- NamedTuple\n",
    "- UnitRange\n",
    "- Array\n",
    "- Pair\n",
    "- Dict\n",
    "- Symbol"
   ]
  },
  {
   "cell_type": "code",
   "execution_count": 53,
   "metadata": {},
   "outputs": [
    {
     "data": {
      "text/plain": [
       "\"This is a string\""
      ]
     },
     "metadata": {},
     "output_type": "display_data"
    }
   ],
   "source": [
    "str1 = \"This is a string\""
   ]
  },
  {
   "cell_type": "code",
   "execution_count": 54,
   "metadata": {},
   "outputs": [
    {
     "data": {
      "text/plain": [
       "String"
      ]
     },
     "metadata": {},
     "output_type": "display_data"
    }
   ],
   "source": [
    "typeof(str1)"
   ]
  },
  {
   "cell_type": "code",
   "execution_count": 55,
   "metadata": {},
   "outputs": [
    {
     "data": {
      "text/plain": [
       "\"This is a big multiline string with a nested \\\"quotation\\\".\\nAs you can see.\\nIt is still a String to Julia.\\n\""
      ]
     },
     "metadata": {},
     "output_type": "display_data"
    }
   ],
   "source": [
    "str2 = \"\"\"\n",
    "    This is a big multiline string with a nested \"quotation\".\n",
    "    As you can see.\n",
    "    It is still a String to Julia.\n",
    "    \"\"\""
   ]
  },
  {
   "cell_type": "code",
   "execution_count": 56,
   "metadata": {},
   "outputs": [
    {
     "data": {
      "text/plain": [
       "String"
      ]
     },
     "metadata": {},
     "output_type": "display_data"
    }
   ],
   "source": [
    "typeof(str2)"
   ]
  },
  {
   "cell_type": "code",
   "execution_count": 57,
   "metadata": {},
   "outputs": [
    {
     "data": {
      "text/plain": [
       "\"Goodbye\""
      ]
     },
     "metadata": {},
     "output_type": "display_data"
    }
   ],
   "source": [
    "# concatenation\n",
    "hello = \"Hello\"\n",
    "goodbye = \"Goodbye\""
   ]
  },
  {
   "cell_type": "code",
   "execution_count": 58,
   "metadata": {},
   "outputs": [
    {
     "data": {
      "text/plain": [
       "\"HelloGoodbye\""
      ]
     },
     "metadata": {},
     "output_type": "display_data"
    }
   ],
   "source": [
    "hello*goodbye"
   ]
  },
  {
   "cell_type": "code",
   "execution_count": 59,
   "metadata": {},
   "outputs": [
    {
     "data": {
      "text/plain": [
       "\"Hello Goodbye\""
      ]
     },
     "metadata": {},
     "output_type": "display_data"
    }
   ],
   "source": [
    "join([hello, goodbye], \" \")"
   ]
  },
  {
   "cell_type": "code",
   "execution_count": 60,
   "metadata": {},
   "outputs": [
    {
     "data": {
      "text/plain": [
       "\"Hello Goodbye\""
      ]
     },
     "metadata": {},
     "output_type": "display_data"
    }
   ],
   "source": [
    "# String Interpolation\n",
    "\"$hello $goodbye\""
   ]
  },
  {
   "cell_type": "code",
   "execution_count": 61,
   "metadata": {},
   "outputs": [
    {
     "data": {
      "text/plain": [
       "compare_interpolate (generic function with 1 method)"
      ]
     },
     "metadata": {},
     "output_type": "display_data"
    }
   ],
   "source": [
    "function compare_interpolate(a, b)\n",
    "    a < b ? \"$a is less than $b\" : a > b ? \"$a is greater than $b\" : \"$a is equal to $b\"\n",
    "end"
   ]
  },
  {
   "cell_type": "code",
   "execution_count": 62,
   "metadata": {},
   "outputs": [
    {
     "data": {
      "text/plain": [
       "\"3.14 is equal to 3.14\""
      ]
     },
     "metadata": {},
     "output_type": "display_data"
    }
   ],
   "source": [
    "compare_interpolate(3.14, 3.14)"
   ]
  },
  {
   "cell_type": "markdown",
   "metadata": {},
   "source": [
    "**Functions to manipulate strings**"
   ]
  },
  {
   "cell_type": "code",
   "execution_count": 63,
   "metadata": {},
   "outputs": [
    {
     "data": {
      "text/plain": [
       "\"Julia is an amazing open source programming language\""
      ]
     },
     "metadata": {},
     "output_type": "display_data"
    }
   ],
   "source": [
    "julia_string = \"Julia is an amazing open source programming language\""
   ]
  },
  {
   "cell_type": "code",
   "execution_count": 64,
   "metadata": {},
   "outputs": [
    {
     "data": {
      "text/plain": [
       "true"
      ]
     },
     "metadata": {},
     "output_type": "display_data"
    }
   ],
   "source": [
    "contains(julia_string, \"Julia\")"
   ]
  },
  {
   "cell_type": "code",
   "execution_count": 66,
   "metadata": {},
   "outputs": [
    {
     "data": {
      "text/plain": [
       "false"
      ]
     },
     "metadata": {},
     "output_type": "display_data"
    }
   ],
   "source": [
    "endswith(julia_string, \"Julia\")"
   ]
  },
  {
   "cell_type": "code",
   "execution_count": 67,
   "metadata": {},
   "outputs": [
    {
     "data": {
      "text/plain": [
       "\"julia is an amazing open source programming language\""
      ]
     },
     "metadata": {},
     "output_type": "display_data"
    }
   ],
   "source": [
    "lowercase(julia_string)"
   ]
  },
  {
   "cell_type": "code",
   "execution_count": 68,
   "metadata": {},
   "outputs": [
    {
     "data": {
      "text/plain": [
       "\"JULIA IS AN AMAZING OPEN SOURCE PROGRAMMING LANGUAGE\""
      ]
     },
     "metadata": {},
     "output_type": "display_data"
    }
   ],
   "source": [
    "uppercase(julia_string)"
   ]
  },
  {
   "cell_type": "code",
   "execution_count": 69,
   "metadata": {},
   "outputs": [
    {
     "data": {
      "text/plain": [
       "\"Julia Is An Amazing Open Source Programming Language\""
      ]
     },
     "metadata": {},
     "output_type": "display_data"
    }
   ],
   "source": [
    "titlecase(julia_string)"
   ]
  },
  {
   "cell_type": "code",
   "execution_count": 70,
   "metadata": {},
   "outputs": [
    {
     "data": {
      "text/plain": [
       "\"julia is an amazing open source programming language\""
      ]
     },
     "metadata": {},
     "output_type": "display_data"
    }
   ],
   "source": [
    "lowercasefirst(julia_string)"
   ]
  },
  {
   "cell_type": "code",
   "execution_count": 71,
   "metadata": {},
   "outputs": [
    {
     "data": {
      "text/plain": [
       "\"Julia is an awesome open source programming language\""
      ]
     },
     "metadata": {},
     "output_type": "display_data"
    }
   ],
   "source": [
    "replace(julia_string, \"amazing\" => \"awesome\")"
   ]
  },
  {
   "cell_type": "code",
   "execution_count": 72,
   "metadata": {},
   "outputs": [
    {
     "data": {
      "text/plain": [
       "8-element Vector{SubString{String}}:\n",
       " \"Julia\"\n",
       " \"is\"\n",
       " \"an\"\n",
       " \"amazing\"\n",
       " \"open\"\n",
       " \"source\"\n",
       " \"programming\"\n",
       " \"language\""
      ]
     },
     "metadata": {},
     "output_type": "display_data"
    }
   ],
   "source": [
    "split(julia_string, \" \")"
   ]
  },
  {
   "cell_type": "code",
   "execution_count": 73,
   "metadata": {},
   "outputs": [
    {
     "data": {
      "text/plain": [
       "\"123\""
      ]
     },
     "metadata": {},
     "output_type": "display_data"
    }
   ],
   "source": [
    "string(123)"
   ]
  },
  {
   "cell_type": "code",
   "execution_count": 74,
   "metadata": {},
   "outputs": [
    {
     "data": {
      "text/plain": [
       "123"
      ]
     },
     "metadata": {},
     "output_type": "display_data"
    }
   ],
   "source": [
    "parse(Int64, \"123\")"
   ]
  },
  {
   "cell_type": "code",
   "execution_count": 76,
   "metadata": {},
   "outputs": [
    {
     "data": {
      "text/plain": [
       "(1, 3.14, \"Julia\")"
      ]
     },
     "metadata": {},
     "output_type": "display_data"
    }
   ],
   "source": [
    "# tuple\n",
    "my_tuple = (1, 3.14, \"Julia\") # immutable struct"
   ]
  },
  {
   "cell_type": "code",
   "execution_count": 77,
   "metadata": {},
   "outputs": [
    {
     "data": {
      "text/plain": [
       "(3, 2)"
      ]
     },
     "metadata": {},
     "output_type": "display_data"
    }
   ],
   "source": [
    "add_mul = add_multiply(1, 2)"
   ]
  },
  {
   "cell_type": "code",
   "execution_count": 78,
   "metadata": {},
   "outputs": [
    {
     "data": {
      "text/plain": [
       "Tuple{Int64, Int64}"
      ]
     },
     "metadata": {},
     "output_type": "display_data"
    }
   ],
   "source": [
    "typeof(add_mul)"
   ]
  },
  {
   "cell_type": "markdown",
   "metadata": {},
   "source": [
    "Mix anonymous functions and tuples"
   ]
  },
  {
   "cell_type": "code",
   "execution_count": 79,
   "metadata": {},
   "outputs": [
    {
     "data": {
      "text/plain": [
       "8"
      ]
     },
     "metadata": {},
     "output_type": "display_data"
    }
   ],
   "source": [
    "map((x, y) -> x^y, 2, 3)"
   ]
  },
  {
   "cell_type": "code",
   "execution_count": 80,
   "metadata": {},
   "outputs": [
    {
     "data": {
      "text/plain": [
       "9"
      ]
     },
     "metadata": {},
     "output_type": "display_data"
    }
   ],
   "source": [
    "map((x, y, z) -> x^y + z, 2, 3, 1)"
   ]
  },
  {
   "cell_type": "code",
   "execution_count": 81,
   "metadata": {},
   "outputs": [
    {
     "data": {
      "text/plain": [
       "(i = 1, f = 3.14, s = \"Julia\")"
      ]
     },
     "metadata": {},
     "output_type": "display_data"
    }
   ],
   "source": [
    "# NamedTuple\n",
    "my_namedtuple = (; i=1, f=3.14, s=\"Julia\")"
   ]
  },
  {
   "cell_type": "code",
   "execution_count": 82,
   "metadata": {},
   "outputs": [
    {
     "data": {
      "text/plain": [
       "3.14"
      ]
     },
     "metadata": {},
     "output_type": "display_data"
    }
   ],
   "source": [
    "my_namedtuple.f"
   ]
  },
  {
   "cell_type": "code",
   "execution_count": 83,
   "metadata": {},
   "outputs": [
    {
     "data": {
      "text/plain": [
       "\"Julia\""
      ]
     },
     "metadata": {},
     "output_type": "display_data"
    }
   ],
   "source": [
    "it = 1\n",
    "ft = 3.14\n",
    "st = \"Julia\""
   ]
  },
  {
   "cell_type": "markdown",
   "metadata": {},
   "source": [
    "Begin the named tuple construction by specifying first a semicolon ; before the values"
   ]
  },
  {
   "cell_type": "code",
   "execution_count": 84,
   "metadata": {},
   "outputs": [
    {
     "data": {
      "text/plain": [
       "(it = 1, ft = 3.14, st = \"Julia\")"
      ]
     },
     "metadata": {},
     "output_type": "display_data"
    }
   ],
   "source": [
    "my_quick_namedtuple = (; it, ft, st)"
   ]
  },
  {
   "cell_type": "code",
   "execution_count": 85,
   "metadata": {},
   "outputs": [
    {
     "data": {
      "text/plain": [
       "1:10"
      ]
     },
     "metadata": {},
     "output_type": "display_data"
    }
   ],
   "source": [
    "1:10"
   ]
  },
  {
   "cell_type": "code",
   "execution_count": 86,
   "metadata": {},
   "outputs": [
    {
     "data": {
      "text/plain": [
       "UnitRange{Int64}"
      ]
     },
     "metadata": {},
     "output_type": "display_data"
    }
   ],
   "source": [
    "typeof(1:10)"
   ]
  },
  {
   "cell_type": "code",
   "execution_count": 87,
   "metadata": {},
   "outputs": [
    {
     "data": {
      "text/plain": [
       "0.0:0.2:1.0"
      ]
     },
     "metadata": {},
     "output_type": "display_data"
    }
   ],
   "source": [
    "0.0:0.2:1.0"
   ]
  },
  {
   "cell_type": "code",
   "execution_count": 88,
   "metadata": {},
   "outputs": [
    {
     "data": {
      "text/plain": [
       "StepRangeLen{Float64, Base.TwicePrecision{Float64}, Base.TwicePrecision{Float64}, Int64}"
      ]
     },
     "metadata": {},
     "output_type": "display_data"
    }
   ],
   "source": [
    "typeof(0.0:0.2:1.0)"
   ]
  },
  {
   "cell_type": "code",
   "execution_count": 89,
   "metadata": {},
   "outputs": [
    {
     "data": {
      "text/plain": [
       "5-element Vector{Int64}:\n",
       " 1\n",
       " 2\n",
       " 3\n",
       " 4\n",
       " 5"
      ]
     },
     "metadata": {},
     "output_type": "display_data"
    }
   ],
   "source": [
    "# array\n",
    "collect(1:5)"
   ]
  },
  {
   "cell_type": "code",
   "execution_count": 90,
   "metadata": {},
   "outputs": [
    {
     "data": {
      "text/plain": [
       "3-element Vector{Int64}:\n",
       " 1\n",
       " 2\n",
       " 3"
      ]
     },
     "metadata": {},
     "output_type": "display_data"
    }
   ],
   "source": [
    "myarray = [1, 2, 3]"
   ]
  },
  {
   "cell_type": "markdown",
   "metadata": {},
   "source": [
    "Let’s start with array types. There are several, but we will focus on the following two\n",
    "\n",
    "- Vector{T}: one-dimensional array. Alias for Array{T, 1}.\n",
    "- Matrix{T}: two-dimensional array. Alias for Array{T, 2}."
   ]
  },
  {
   "cell_type": "code",
   "execution_count": 91,
   "metadata": {},
   "outputs": [
    {
     "data": {
      "text/plain": [
       "10-element Vector{Float64}:\n",
       " 2.890241183e-314\n",
       " 2.8902411907e-314\n",
       " 2.248727131e-314\n",
       " 2.3963341834e-314\n",
       " 2.396330389e-314\n",
       " 2.890378968e-314\n",
       " 2.396330389e-314\n",
       " 2.396338215e-314\n",
       " 2.396330737e-314\n",
       " 2.396338215e-314"
      ]
     },
     "metadata": {},
     "output_type": "display_data"
    }
   ],
   "source": [
    "my_vector = Vector{Float64}(undef, 10)"
   ]
  },
  {
   "cell_type": "code",
   "execution_count": 92,
   "metadata": {},
   "outputs": [
    {
     "data": {
      "text/plain": [
       "10×2 Matrix{Float64}:\n",
       " 2.22795e-314  2.22795e-314\n",
       " 2.22795e-314  2.22795e-314\n",
       " 2.22795e-314  2.22795e-314\n",
       " 2.22795e-314  2.22795e-314\n",
       " 2.22795e-314  2.22795e-314\n",
       " 2.22795e-314  2.22795e-314\n",
       " 2.22795e-314  2.22795e-314\n",
       " 2.22795e-314  2.22795e-314\n",
       " 2.22795e-314  2.22795e-314\n",
       " 2.22795e-314  2.22795e-314"
      ]
     },
     "metadata": {},
     "output_type": "display_data"
    }
   ],
   "source": [
    "my_matrix = Matrix{Float64}(undef, 10, 2)"
   ]
  },
  {
   "cell_type": "markdown",
   "metadata": {},
   "source": [
    "**Common arrays**"
   ]
  },
  {
   "cell_type": "code",
   "execution_count": 93,
   "metadata": {},
   "outputs": [
    {
     "data": {
      "text/plain": [
       "3×3 Matrix{Float64}:\n",
       " 0.0  0.0  0.0\n",
       " 0.0  0.0  0.0\n",
       " 0.0  0.0  0.0"
      ]
     },
     "metadata": {},
     "output_type": "display_data"
    }
   ],
   "source": [
    "zeros(3,3)"
   ]
  },
  {
   "cell_type": "code",
   "execution_count": 94,
   "metadata": {},
   "outputs": [
    {
     "data": {
      "text/plain": [
       "3×3 Matrix{Int64}:\n",
       " 1  1  1\n",
       " 1  1  1\n",
       " 1  1  1"
      ]
     },
     "metadata": {},
     "output_type": "display_data"
    }
   ],
   "source": [
    "ones(Int64, 3,3)"
   ]
  },
  {
   "cell_type": "markdown",
   "metadata": {},
   "source": [
    "This also works: (array literals)"
   ]
  },
  {
   "cell_type": "code",
   "execution_count": 95,
   "metadata": {},
   "outputs": [
    {
     "data": {
      "text/plain": [
       "2×2 Matrix{Int64}:\n",
       " 1  2\n",
       " 3  4"
      ]
     },
     "metadata": {},
     "output_type": "display_data"
    }
   ],
   "source": [
    "[[1 2]\n",
    " [3 4]]"
   ]
  },
  {
   "cell_type": "code",
   "execution_count": 96,
   "metadata": {},
   "outputs": [
    {
     "data": {
      "text/plain": [
       "2×2 Matrix{Float64}:\n",
       " 1.0  2.0\n",
       " 3.0  4.0"
      ]
     },
     "metadata": {},
     "output_type": "display_data"
    }
   ],
   "source": [
    "Float64[[1 2]\n",
    "        [3 4]]"
   ]
  },
  {
   "cell_type": "code",
   "execution_count": 97,
   "metadata": {},
   "outputs": [
    {
     "data": {
      "text/plain": [
       "2×4 Matrix{Int64}:\n",
       " 1  1  0  0\n",
       " 1  1  0  0"
      ]
     },
     "metadata": {},
     "output_type": "display_data"
    }
   ],
   "source": [
    "# mix and match\n",
    "[ones(Int, 2, 2) zeros(Int, 2, 2)]"
   ]
  },
  {
   "cell_type": "code",
   "execution_count": 98,
   "metadata": {},
   "outputs": [
    {
     "data": {
      "text/plain": [
       "5-element Vector{Int64}:\n",
       "  1\n",
       "  4\n",
       "  9\n",
       " 16\n",
       " 25"
      ]
     },
     "metadata": {},
     "output_type": "display_data"
    }
   ],
   "source": [
    "# array comprehension\n",
    "[x^2 for x in 1:5]"
   ]
  },
  {
   "cell_type": "code",
   "execution_count": 99,
   "metadata": {},
   "outputs": [
    {
     "data": {
      "text/plain": [
       "10-element Vector{Int64}:\n",
       "  1\n",
       "  2\n",
       "  2\n",
       "  4\n",
       "  3\n",
       "  6\n",
       "  4\n",
       "  8\n",
       "  5\n",
       " 10"
      ]
     },
     "metadata": {},
     "output_type": "display_data"
    }
   ],
   "source": [
    "[x*y for x in 1:5 for y in 1:2]"
   ]
  },
  {
   "cell_type": "code",
   "execution_count": 100,
   "metadata": {},
   "outputs": [
    {
     "data": {
      "text/plain": [
       "5×2 Matrix{Int64}:\n",
       " 1   2\n",
       " 2   4\n",
       " 3   6\n",
       " 4   8\n",
       " 5  10"
      ]
     },
     "metadata": {},
     "output_type": "display_data"
    }
   ],
   "source": [
    "[x*y for x in 1:5, y in 1:2]"
   ]
  },
  {
   "cell_type": "code",
   "execution_count": 101,
   "metadata": {},
   "outputs": [
    {
     "data": {
      "text/plain": [
       "3-element Vector{Int64}:\n",
       "  1\n",
       "  9\n",
       " 25"
      ]
     },
     "metadata": {},
     "output_type": "display_data"
    }
   ],
   "source": [
    "# conditional\n",
    "[x^2 for x in 1:5 if isodd(x)]"
   ]
  },
  {
   "cell_type": "markdown",
   "metadata": {},
   "source": [
    "- **Pair**\n",
    "- **Dict**\n",
    "- **Symbol**"
   ]
  },
  {
   "cell_type": "code",
   "execution_count": 102,
   "metadata": {},
   "outputs": [
    {
     "data": {
      "text/plain": [
       "\"Julia\" => 42"
      ]
     },
     "metadata": {},
     "output_type": "display_data"
    }
   ],
   "source": [
    "my_pair = \"Julia\" => 42"
   ]
  },
  {
   "cell_type": "code",
   "execution_count": 103,
   "metadata": {},
   "outputs": [
    {
     "data": {
      "text/plain": [
       "Dict{String, Int64} with 2 entries:\n",
       "  \"two\" => 2\n",
       "  \"one\" => 1"
      ]
     },
     "metadata": {},
     "output_type": "display_data"
    }
   ],
   "source": [
    "name2number_map = Dict(\"one\" => 1, \"two\" => 2)"
   ]
  },
  {
   "cell_type": "code",
   "execution_count": 104,
   "metadata": {},
   "outputs": [
    {
     "data": {
      "text/plain": [
       ":some_text"
      ]
     },
     "metadata": {},
     "output_type": "display_data"
    }
   ],
   "source": [
    "sym = :some_text"
   ]
  },
  {
   "cell_type": "markdown",
   "metadata": {},
   "source": [
    "**Splat Operator**"
   ]
  },
  {
   "cell_type": "code",
   "execution_count": 105,
   "metadata": {},
   "outputs": [
    {
     "data": {
      "text/plain": [
       "add_elements (generic function with 1 method)"
      ]
     },
     "metadata": {},
     "output_type": "display_data"
    }
   ],
   "source": [
    "add_elements(a, b, c) = a + b + c"
   ]
  },
  {
   "cell_type": "code",
   "execution_count": 106,
   "metadata": {},
   "outputs": [
    {
     "data": {
      "text/plain": [
       "3-element Vector{Int64}:\n",
       " 1\n",
       " 2\n",
       " 3"
      ]
     },
     "metadata": {},
     "output_type": "display_data"
    }
   ],
   "source": [
    "my_collection = [1, 2, 3]"
   ]
  },
  {
   "cell_type": "code",
   "execution_count": 107,
   "metadata": {},
   "outputs": [
    {
     "data": {
      "text/plain": [
       "6"
      ]
     },
     "metadata": {},
     "output_type": "display_data"
    }
   ],
   "source": [
    "add_elements(my_collection...)"
   ]
  },
  {
   "cell_type": "code",
   "execution_count": 108,
   "metadata": {},
   "outputs": [
    {
     "data": {
      "text/plain": [
       "6"
      ]
     },
     "metadata": {},
     "output_type": "display_data"
    }
   ],
   "source": [
    "add_elements(1:3...)"
   ]
  },
  {
   "cell_type": "markdown",
   "metadata": {},
   "source": [
    "### Plotting? Do we have time ?"
   ]
  },
  {
   "cell_type": "code",
   "execution_count": 110,
   "metadata": {},
   "outputs": [
    {
     "name": "stdout",
     "output_type": "stream",
     "text": [
      "\u001b[32m\u001b[1mStatus\u001b[22m\u001b[39m `~/Documents/BiDS23/intro/Project.toml`\n",
      "  \u001b[90m[e9467ef8] \u001b[39mGLMakie v0.8.12\n",
      "  \u001b[90m[37e2e46d] \u001b[39mLinearAlgebra\n",
      "  \u001b[90m[9a3f8284] \u001b[39mRandom\n"
     ]
    }
   ],
   "source": [
    "using Pkg\n",
    "Pkg.status()"
   ]
  },
  {
   "cell_type": "code",
   "execution_count": 111,
   "metadata": {},
   "outputs": [
    {
     "name": "stderr",
     "output_type": "stream",
     "text": [
      "\u001b[32m\u001b[1m   Resolving\u001b[22m\u001b[39m package versions...\n"
     ]
    },
    {
     "name": "stderr",
     "output_type": "stream",
     "text": [
      "\u001b[32m\u001b[1m  No Changes\u001b[22m\u001b[39m to `~/Documents/BiDS23/intro/Project.toml`\n",
      "\u001b[32m\u001b[1m  No Changes\u001b[22m\u001b[39m to `~/Documents/BiDS23/intro/Manifest.toml`\n"
     ]
    }
   ],
   "source": [
    "Pkg.add(\"GLMakie\")"
   ]
  },
  {
   "cell_type": "code",
   "execution_count": 112,
   "metadata": {},
   "outputs": [],
   "source": [
    "using GLMakie\n",
    "GLMakie.activate!()"
   ]
  },
  {
   "cell_type": "code",
   "execution_count": 117,
   "metadata": {},
   "outputs": [
    {
     "data": {
      "image/svg+xml": [
       "<?xml version=\"1.0\" encoding=\"UTF-8\"?>\n",
       "<!DOCTYPE svg PUBLIC \"-//W3C//DTD SVG 1.1//EN\"\n",
       " \"http://www.w3.org/Graphics/SVG/1.1/DTD/svg11.dtd\">\n",
       "<svg xmlns=\"http://www.w3.org/2000/svg\" version=\"1.1\"\n",
       "     width=\"180mm\" height=\"25mm\" viewBox=\"0 0 101 1\" stroke=\"none\"\n",
       "     preserveAspectRatio=\"none\" shape-rendering=\"crispEdges\">\n",
       "<defs>\n",
       "    <pattern id=\"pat_2MHysU\" width=\".2\" height=\".2\"\n",
       "             patternUnits=\"userSpaceOnUse\" patternTransform=\"scale(14.028,1)\" >\n",
       "        <path d=\"M.1,0h.1v.1h-.2v.1h.1z\" fill=\"#999\" opacity=\".5\" />\n",
       "    </pattern>\n",
       "</defs>\n",
       "<rect width=\"101\" height=\"1\" fill=\"url(#pat_2MHysU)\" />\n",
       "<path d=\"M1,.46V1h-1V.54z\" fill=\"#E76254\" />\n",
       "<path d=\"M0,0h1v1h-1z\" fill=\"#E76254\" fill-opacity=\"1\" />\n",
       "<path d=\"M2,.46V1h-1V.54z\" fill=\"#E86653\" />\n",
       "<path d=\"M1,0h1v1h-1z\" fill=\"#E86653\" fill-opacity=\".9604\" />\n",
       "<path d=\"M3,.46V1h-1V.54z\" fill=\"#E86952\" />\n",
       "<path d=\"M2,0h1v1h-1z\" fill=\"#E86952\" fill-opacity=\".9216\" />\n",
       "<path d=\"M4,.46V1h-1V.54z\" fill=\"#E96D50\" />\n",
       "<path d=\"M3,0h1v1h-1z\" fill=\"#E96D50\" fill-opacity=\".8836\" />\n",
       "<path d=\"M5,.46V1h-1V.54z\" fill=\"#EA704F\" />\n",
       "<path d=\"M4,0h1v1h-1z\" fill=\"#EA704F\" fill-opacity=\".8464\" />\n",
       "<path d=\"M6,.46V1h-1V.54z\" fill=\"#EB744E\" />\n",
       "<path d=\"M5,0h1v1h-1z\" fill=\"#EB744E\" fill-opacity=\".81\" />\n",
       "<path d=\"M7,.46V1h-1V.54z\" fill=\"#EB784D\" />\n",
       "<path d=\"M6,0h1v1h-1z\" fill=\"#EB784D\" fill-opacity=\".7744\" />\n",
       "<path d=\"M8,.46V1h-1V.54z\" fill=\"#EC7B4C\" />\n",
       "<path d=\"M7,0h1v1h-1z\" fill=\"#EC7B4C\" fill-opacity=\".7396\" />\n",
       "<path d=\"M9,.46V1h-1V.54z\" fill=\"#ED7F4B\" />\n",
       "<path d=\"M8,0h1v1h-1z\" fill=\"#ED7F4B\" fill-opacity=\".7056\" />\n",
       "<path d=\"M10,.46V1h-1V.54z\" fill=\"#ED8249\" />\n",
       "<path d=\"M9,0h1v1h-1z\" fill=\"#ED8249\" fill-opacity=\".6724\" />\n",
       "<path d=\"M11,.46V1h-1V.54z\" fill=\"#EE8648\" />\n",
       "<path d=\"M10,0h1v1h-1z\" fill=\"#EE8648\" fill-opacity=\".64\" />\n",
       "<path d=\"M12,.46V1h-1V.54z\" fill=\"#EF8A47\" />\n",
       "<path d=\"M11,0h1v1h-1z\" fill=\"#EF8A47\" fill-opacity=\".6084\" />\n",
       "<path d=\"M13,.46V1h-1V.54z\" fill=\"#F08D48\" />\n",
       "<path d=\"M12,0h1v1h-1z\" fill=\"#F08D48\" fill-opacity=\".5776\" />\n",
       "<path d=\"M14,.46V1h-1V.54z\" fill=\"#F08F4A\" />\n",
       "<path d=\"M13,0h1v1h-1z\" fill=\"#F08F4A\" fill-opacity=\".5476\" />\n",
       "<path d=\"M15,.46V1h-1V.54z\" fill=\"#F1924B\" />\n",
       "<path d=\"M14,0h1v1h-1z\" fill=\"#F1924B\" fill-opacity=\".5184\" />\n",
       "<path d=\"M16,.46V1h-1V.54z\" fill=\"#F2954D\" />\n",
       "<path d=\"M15,0h1v1h-1z\" fill=\"#F2954D\" fill-opacity=\".49\" />\n",
       "<path d=\"M17,.46V1h-1V.54z\" fill=\"#F3984E\" />\n",
       "<path d=\"M16,0h1v1h-1z\" fill=\"#F3984E\" fill-opacity=\".4624\" />\n",
       "<path d=\"M18,.46V1h-1V.54z\" fill=\"#F39B50\" />\n",
       "<path d=\"M17,0h1v1h-1z\" fill=\"#F39B50\" fill-opacity=\".4356\" />\n",
       "<path d=\"M19,.46V1h-1V.54z\" fill=\"#F49E52\" />\n",
       "<path d=\"M18,0h1v1h-1z\" fill=\"#F49E52\" fill-opacity=\".4096\" />\n",
       "<path d=\"M20,.46V1h-1V.54z\" fill=\"#F5A153\" />\n",
       "<path d=\"M19,0h1v1h-1z\" fill=\"#F5A153\" fill-opacity=\".3844\" />\n",
       "<path d=\"M21,.46V1h-1V.54z\" fill=\"#F5A455\" />\n",
       "<path d=\"M20,0h1v1h-1z\" fill=\"#F5A455\" fill-opacity=\".36\" />\n",
       "<path d=\"M22,.46V1h-1V.54z\" fill=\"#F6A656\" />\n",
       "<path d=\"M21,0h1v1h-1z\" fill=\"#F6A656\" fill-opacity=\".3364\" />\n",
       "<path d=\"M23,.46V1h-1V.54z\" fill=\"#F7A958\" />\n",
       "<path d=\"M22,0h1v1h-1z\" fill=\"#F7A958\" fill-opacity=\".3136\" />\n",
       "<path d=\"M24,.46V1h-1V.54z\" fill=\"#F8AD5A\" />\n",
       "<path d=\"M23,0h1v1h-1z\" fill=\"#F8AD5A\" fill-opacity=\".2916\" />\n",
       "<path d=\"M25,.46V1h-1V.54z\" fill=\"#F8B05C\" />\n",
       "<path d=\"M24,0h1v1h-1z\" fill=\"#F8B05C\" fill-opacity=\".2704\" />\n",
       "<path d=\"M26,.46V1h-1V.54z\" fill=\"#F9B45E\" />\n",
       "<path d=\"M25,0h1v1h-1z\" fill=\"#F9B45E\" fill-opacity=\".25\" />\n",
       "<path d=\"M27,.46V1h-1V.54z\" fill=\"#FAB760\" />\n",
       "<path d=\"M26,0h1v1h-1z\" fill=\"#FAB760\" fill-opacity=\".2304\" />\n",
       "<path d=\"M28,.46V1h-1V.54z\" fill=\"#FABA62\" />\n",
       "<path d=\"M27,0h1v1h-1z\" fill=\"#FABA62\" fill-opacity=\".2116\" />\n",
       "<path d=\"M29,.46V1h-1V.54z\" fill=\"#FBBE64\" />\n",
       "<path d=\"M28,0h1v1h-1z\" fill=\"#FBBE64\" fill-opacity=\".1936\" />\n",
       "<path d=\"M30,.46V1h-1V.54z\" fill=\"#FCC166\" />\n",
       "<path d=\"M29,0h1v1h-1z\" fill=\"#FCC166\" fill-opacity=\".1764\" />\n",
       "<path d=\"M31,.46V1h-1V.54z\" fill=\"#FDC568\" />\n",
       "<path d=\"M30,0h1v1h-1z\" fill=\"#FDC568\" fill-opacity=\".16\" />\n",
       "<path d=\"M32,.46V1h-1V.54z\" fill=\"#FDC86A\" />\n",
       "<path d=\"M31,0h1v1h-1z\" fill=\"#FDC86A\" fill-opacity=\".1444\" />\n",
       "<path d=\"M33,.46V1h-1V.54z\" fill=\"#FECB6C\" />\n",
       "<path d=\"M32,0h1v1h-1z\" fill=\"#FECB6C\" fill-opacity=\".1296\" />\n",
       "<path d=\"M34,.46V1h-1V.54z\" fill=\"#FFCF6E\" />\n",
       "<path d=\"M33,0h1v1h-1z\" fill=\"#FFCF6E\" fill-opacity=\".1156\" />\n",
       "<path d=\"M35,.46V1h-1V.54z\" fill=\"#FFD173\" />\n",
       "<path d=\"M34,0h1v1h-1z\" fill=\"#FFD173\" fill-opacity=\".1024\" />\n",
       "<path d=\"M36,.46V1h-1V.54z\" fill=\"#FFD37A\" />\n",
       "<path d=\"M35,0h1v1h-1z\" fill=\"#FFD37A\" fill-opacity=\".09\" />\n",
       "<path d=\"M37,.46V1h-1V.54z\" fill=\"#FFD580\" />\n",
       "<path d=\"M36,0h1v1h-1z\" fill=\"#FFD580\" fill-opacity=\".0784\" />\n",
       "<path d=\"M38,.46V1h-1V.54z\" fill=\"#FFD787\" />\n",
       "<path d=\"M37,0h1v1h-1z\" fill=\"#FFD787\" fill-opacity=\".0676\" />\n",
       "<path d=\"M39,.46V1h-1V.54z\" fill=\"#FFD98D\" />\n",
       "<path d=\"M38,0h1v1h-1z\" fill=\"#FFD98D\" fill-opacity=\".0576\" />\n",
       "<path d=\"M40,.46V1h-1V.54z\" fill=\"#FFDB94\" />\n",
       "<path d=\"M39,0h1v1h-1z\" fill=\"#FFDB94\" fill-opacity=\".0484\" />\n",
       "<path d=\"M41,.46V1h-1V.54z\" fill=\"#FFDD9A\" />\n",
       "<path d=\"M40,0h1v1h-1z\" fill=\"#FFDD9A\" fill-opacity=\".04\" />\n",
       "<path d=\"M42,.46V1h-1V.54z\" fill=\"#FFDFA1\" />\n",
       "<path d=\"M41,0h1v1h-1z\" fill=\"#FFDFA1\" fill-opacity=\".0324\" />\n",
       "<path d=\"M43,.46V1h-1V.54z\" fill=\"#FFE1A7\" />\n",
       "<path d=\"M42,0h1v1h-1z\" fill=\"#FFE1A7\" fill-opacity=\".0256\" />\n",
       "<path d=\"M44,.46V1h-1V.54z\" fill=\"#FFE3AE\" />\n",
       "<path d=\"M43,0h1v1h-1z\" fill=\"#FFE3AE\" fill-opacity=\".0196\" />\n",
       "<path d=\"M45,.46V1h-1V.54z\" fill=\"#FFE5B4\" />\n",
       "<path d=\"M44,0h1v1h-1z\" fill=\"#FFE5B4\" fill-opacity=\".0144\" />\n",
       "<path d=\"M46,.46V1h-1V.54z\" fill=\"#FBE6B9\" />\n",
       "<path d=\"M45,0h1v1h-1z\" fill=\"#FBE6B9\" fill-opacity=\".01\" />\n",
       "<path d=\"M47,.46V1h-1V.54z\" fill=\"#F3E5BD\" />\n",
       "<path d=\"M46,0h1v1h-1z\" fill=\"#F3E5BD\" fill-opacity=\".0064\" />\n",
       "<path d=\"M48,.46V1h-1V.54z\" fill=\"#EBE4C0\" />\n",
       "<path d=\"M47,0h1v1h-1z\" fill=\"#EBE4C0\" fill-opacity=\".0036\" />\n",
       "<path d=\"M49,.46V1h-1V.54z\" fill=\"#E4E3C4\" />\n",
       "<path d=\"M48,0h1v1h-1z\" fill=\"#E4E3C4\" fill-opacity=\".0016\" />\n",
       "<path d=\"M50,.46V1h-1V.54z\" fill=\"#DCE2C8\" />\n",
       "<path d=\"M49,0h1v1h-1z\" fill=\"#DCE2C8\" fill-opacity=\".0004\" />\n",
       "<path d=\"M51,.46V1h-1V.54z\" fill=\"#D5E1CC\" />\n",
       "<path d=\"M50,0h1v1h-1z\" fill=\"#D5E1CC\" fill-opacity=\"0\" />\n",
       "<path d=\"M52,.46V1h-1V.54z\" fill=\"#CDE0CF\" />\n",
       "<path d=\"M51,0h1v1h-1z\" fill=\"#CDE0CF\" fill-opacity=\".0004\" />\n",
       "<path d=\"M53,.46V1h-1V.54z\" fill=\"#C5DFD3\" />\n",
       "<path d=\"M52,0h1v1h-1z\" fill=\"#C5DFD3\" fill-opacity=\".0016\" />\n",
       "<path d=\"M54,.46V1h-1V.54z\" fill=\"#BEDED7\" />\n",
       "<path d=\"M53,0h1v1h-1z\" fill=\"#BEDED7\" fill-opacity=\".0036\" />\n",
       "<path d=\"M55,.46V1h-1V.54z\" fill=\"#B6DDDA\" />\n",
       "<path d=\"M54,0h1v1h-1z\" fill=\"#B6DDDA\" fill-opacity=\".0064\" />\n",
       "<path d=\"M56,.46V1h-1V.54z\" fill=\"#AEDDDE\" />\n",
       "<path d=\"M55,0h1v1h-1z\" fill=\"#AEDDDE\" fill-opacity=\".01\" />\n",
       "<path d=\"M57,.46V1h-1V.54z\" fill=\"#A8DBE0\" />\n",
       "<path d=\"M56,0h1v1h-1z\" fill=\"#A8DBE0\" fill-opacity=\".0144\" />\n",
       "<path d=\"M58,.46V1h-1V.54z\" fill=\"#A3D8DF\" />\n",
       "<path d=\"M57,0h1v1h-1z\" fill=\"#A3D8DF\" fill-opacity=\".0196\" />\n",
       "<path d=\"M59,.46V1h-1V.54z\" fill=\"#9ED5DE\" />\n",
       "<path d=\"M58,0h1v1h-1z\" fill=\"#9ED5DE\" fill-opacity=\".0256\" />\n",
       "<path d=\"M60,.46V1h-1V.54z\" fill=\"#99D2DD\" />\n",
       "<path d=\"M59,0h1v1h-1z\" fill=\"#99D2DD\" fill-opacity=\".0324\" />\n",
       "<path d=\"M61,.46V1h-1V.54z\" fill=\"#94CFDC\" />\n",
       "<path d=\"M60,0h1v1h-1z\" fill=\"#94CFDC\" fill-opacity=\".04\" />\n",
       "<path d=\"M62,.46V1h-1V.54z\" fill=\"#8FCCDB\" />\n",
       "<path d=\"M61,0h1v1h-1z\" fill=\"#8FCCDB\" fill-opacity=\".0484\" />\n",
       "<path d=\"M63,.46V1h-1V.54z\" fill=\"#8AC9DA\" />\n",
       "<path d=\"M62,0h1v1h-1z\" fill=\"#8AC9DA\" fill-opacity=\".0576\" />\n",
       "<path d=\"M64,.46V1h-1V.54z\" fill=\"#84C7D9\" />\n",
       "<path d=\"M63,0h1v1h-1z\" fill=\"#84C7D9\" fill-opacity=\".0676\" />\n",
       "<path d=\"M65,.46V1h-1V.54z\" fill=\"#7FC4D8\" />\n",
       "<path d=\"M64,0h1v1h-1z\" fill=\"#7FC4D8\" fill-opacity=\".0784\" />\n",
       "<path d=\"M66,.46V1h-1V.54z\" fill=\"#7AC1D7\" />\n",
       "<path d=\"M65,0h1v1h-1z\" fill=\"#7AC1D7\" fill-opacity=\".09\" />\n",
       "<path d=\"M67,.46V1h-1V.54z\" fill=\"#75BED6\" />\n",
       "<path d=\"M66,0h1v1h-1z\" fill=\"#75BED6\" fill-opacity=\".1024\" />\n",
       "<path d=\"M68,.46V1h-1V.54z\" fill=\"#71BBD4\" />\n",
       "<path d=\"M67,0h1v1h-1z\" fill=\"#71BBD4\" fill-opacity=\".1156\" />\n",
       "<path d=\"M69,.46V1h-1V.54z\" fill=\"#6EB7D0\" />\n",
       "<path d=\"M68,0h1v1h-1z\" fill=\"#6EB7D0\" fill-opacity=\".1296\" />\n",
       "<path d=\"M70,.46V1h-1V.54z\" fill=\"#6BB3CD\" />\n",
       "<path d=\"M69,0h1v1h-1z\" fill=\"#6BB3CD\" fill-opacity=\".1444\" />\n",
       "<path d=\"M71,.46V1h-1V.54z\" fill=\"#68AFC9\" />\n",
       "<path d=\"M70,0h1v1h-1z\" fill=\"#68AFC9\" fill-opacity=\".16\" />\n",
       "<path d=\"M72,.46V1h-1V.54z\" fill=\"#66AAC5\" />\n",
       "<path d=\"M71,0h1v1h-1z\" fill=\"#66AAC5\" fill-opacity=\".1764\" />\n",
       "<path d=\"M73,.46V1h-1V.54z\" fill=\"#63A6C2\" />\n",
       "<path d=\"M72,0h1v1h-1z\" fill=\"#63A6C2\" fill-opacity=\".1936\" />\n",
       "<path d=\"M74,.46V1h-1V.54z\" fill=\"#60A2BE\" />\n",
       "<path d=\"M73,0h1v1h-1z\" fill=\"#60A2BE\" fill-opacity=\".2116\" />\n",
       "<path d=\"M75,.46V1h-1V.54z\" fill=\"#5D9EBB\" />\n",
       "<path d=\"M74,0h1v1h-1z\" fill=\"#5D9EBB\" fill-opacity=\".2304\" />\n",
       "<path d=\"M76,.46V1h-1V.54z\" fill=\"#5A9AB7\" />\n",
       "<path d=\"M75,0h1v1h-1z\" fill=\"#5A9AB7\" fill-opacity=\".25\" />\n",
       "<path d=\"M77,.46V1h-1V.54z\" fill=\"#5796B3\" />\n",
       "<path d=\"M76,0h1v1h-1z\" fill=\"#5796B3\" fill-opacity=\".2704\" />\n",
       "<path d=\"M78,.46V1h-1V.54z\" fill=\"#5492B0\" />\n",
       "<path d=\"M77,0h1v1h-1z\" fill=\"#5492B0\" fill-opacity=\".2916\" />\n",
       "<path d=\"M79,.46V1h-1V.54z\" fill=\"#518EAD\" />\n",
       "<path d=\"M78,0h1v1h-1z\" fill=\"#518EAD\" fill-opacity=\".3136\" />\n",
       "<path d=\"M80,.46V1h-1V.54z\" fill=\"#4F8BAA\" />\n",
       "<path d=\"M79,0h1v1h-1z\" fill=\"#4F8BAA\" fill-opacity=\".3364\" />\n",
       "<path d=\"M81,.46V1h-1V.54z\" fill=\"#4D87A8\" />\n",
       "<path d=\"M80,0h1v1h-1z\" fill=\"#4D87A8\" fill-opacity=\".36\" />\n",
       "<path d=\"M82,.46V1h-1V.54z\" fill=\"#4A83A6\" />\n",
       "<path d=\"M81,0h1v1h-1z\" fill=\"#4A83A6\" fill-opacity=\".3844\" />\n",
       "<path d=\"M83,.46V1h-1V.54z\" fill=\"#4880A4\" />\n",
       "<path d=\"M82,0h1v1h-1z\" fill=\"#4880A4\" fill-opacity=\".4096\" />\n",
       "<path d=\"M84,.46V1h-1V.54z\" fill=\"#457CA2\" />\n",
       "<path d=\"M83,0h1v1h-1z\" fill=\"#457CA2\" fill-opacity=\".4356\" />\n",
       "<path d=\"M85,.46V1h-1V.54z\" fill=\"#4379A0\" />\n",
       "<path d=\"M84,0h1v1h-1z\" fill=\"#4379A0\" fill-opacity=\".4624\" />\n",
       "<path d=\"M86,.46V1h-1V.54z\" fill=\"#40759D\" />\n",
       "<path d=\"M85,0h1v1h-1z\" fill=\"#40759D\" fill-opacity=\".49\" />\n",
       "<path d=\"M87,.46V1h-1V.54z\" fill=\"#3E719B\" />\n",
       "<path d=\"M86,0h1v1h-1z\" fill=\"#3E719B\" fill-opacity=\".5184\" />\n",
       "<path d=\"M88,.46V1h-1V.54z\" fill=\"#3C6E99\" />\n",
       "<path d=\"M87,0h1v1h-1z\" fill=\"#3C6E99\" fill-opacity=\".5476\" />\n",
       "<path d=\"M89,.46V1h-1V.54z\" fill=\"#396A97\" />\n",
       "<path d=\"M88,0h1v1h-1z\" fill=\"#396A97\" fill-opacity=\".5776\" />\n",
       "<path d=\"M90,.46V1h-1V.54z\" fill=\"#376795\" />\n",
       "<path d=\"M89,0h1v1h-1z\" fill=\"#376795\" fill-opacity=\".6084\" />\n",
       "<path d=\"M91,.46V1h-1V.54z\" fill=\"#346491\" />\n",
       "<path d=\"M90,0h1v1h-1z\" fill=\"#346491\" fill-opacity=\".64\" />\n",
       "<path d=\"M92,.46V1h-1V.54z\" fill=\"#32618E\" />\n",
       "<path d=\"M91,0h1v1h-1z\" fill=\"#32618E\" fill-opacity=\".6724\" />\n",
       "<path d=\"M93,.46V1h-1V.54z\" fill=\"#305E8A\" />\n",
       "<path d=\"M92,0h1v1h-1z\" fill=\"#305E8A\" fill-opacity=\".7056\" />\n",
       "<path d=\"M94,.46V1h-1V.54z\" fill=\"#2E5B87\" />\n",
       "<path d=\"M93,0h1v1h-1z\" fill=\"#2E5B87\" fill-opacity=\".7396\" />\n",
       "<path d=\"M95,.46V1h-1V.54z\" fill=\"#2C5883\" />\n",
       "<path d=\"M94,0h1v1h-1z\" fill=\"#2C5883\" fill-opacity=\".7744\" />\n",
       "<path d=\"M96,.46V1h-1V.54z\" fill=\"#295580\" />\n",
       "<path d=\"M95,0h1v1h-1z\" fill=\"#295580\" fill-opacity=\".81\" />\n",
       "<path d=\"M97,.46V1h-1V.54z\" fill=\"#27527C\" />\n",
       "<path d=\"M96,0h1v1h-1z\" fill=\"#27527C\" fill-opacity=\".8464\" />\n",
       "<path d=\"M98,.46V1h-1V.54z\" fill=\"#254F79\" />\n",
       "<path d=\"M97,0h1v1h-1z\" fill=\"#254F79\" fill-opacity=\".8836\" />\n",
       "<path d=\"M99,.46V1h-1V.54z\" fill=\"#224C75\" />\n",
       "<path d=\"M98,0h1v1h-1z\" fill=\"#224C75\" fill-opacity=\".9216\" />\n",
       "<path d=\"M100,.46V1h-1V.54z\" fill=\"#204972\" />\n",
       "<path d=\"M99,0h1v1h-1z\" fill=\"#204972\" fill-opacity=\".9604\" />\n",
       "<path d=\"M101,.46V1h-1V.54z\" fill=\"#1E466E\" />\n",
       "<path d=\"M100,0h1v1h-1z\" fill=\"#1E466E\" fill-opacity=\"1\" />\n",
       "</svg>"
      ],
      "text/plain": [
       "101-element Array{RGBA{Float32},1} with eltype ColorTypes.RGBA{Float32}:\n",
       " RGBA{Float32}(0.90588236f0,0.38431373f0,0.32941177f0,1.0f0)\n",
       " RGBA{Float32}(0.9087059f0,0.3984314f0,0.32482353f0,0.9604f0)\n",
       " RGBA{Float32}(0.9115294f0,0.41254902f0,0.3202353f0,0.9216f0)\n",
       " RGBA{Float32}(0.91435295f0,0.42666668f0,0.31564707f0,0.8836f0)\n",
       " RGBA{Float32}(0.9171765f0,0.44078434f0,0.31105885f0,0.8464f0)\n",
       " RGBA{Float32}(0.92f0,0.45490196f0,0.3064706f0,0.81f0)\n",
       " RGBA{Float32}(0.92282355f0,0.46901962f0,0.30188236f0,0.7744f0)\n",
       " RGBA{Float32}(0.9256471f0,0.48313728f0,0.29729414f0,0.7396f0)\n",
       " RGBA{Float32}(0.9284706f0,0.49725494f0,0.2927059f0,0.7056f0)\n",
       " RGBA{Float32}(0.93129414f0,0.51137257f0,0.28811765f0,0.6724f0)\n",
       " ⋮\n",
       " RGBA{Float32}(0.1882353f0,0.36768627f0,0.5414902f0,0.7056f0)\n",
       " RGBA{Float32}(0.17941177f0,0.35603923f0,0.5277255f0,0.7396f0)\n",
       " RGBA{Float32}(0.17058824f0,0.34439218f0,0.5139608f0,0.7744f0)\n",
       " RGBA{Float32}(0.16176471f0,0.3327451f0,0.5001961f0,0.81f0)\n",
       " RGBA{Float32}(0.15294118f0,0.32109806f0,0.4864314f0,0.8464f0)\n",
       " RGBA{Float32}(0.14411765f0,0.30945098f0,0.47266668f0,0.8836f0)\n",
       " RGBA{Float32}(0.13529412f0,0.29780394f0,0.45890197f0,0.9216f0)\n",
       " RGBA{Float32}(0.1264706f0,0.28615686f0,0.44513726f0,0.9604f0)\n",
       " RGBA{Float32}(0.11764706f0,0.27450982f0,0.43137255f0,1.0f0)"
      ]
     },
     "metadata": {},
     "output_type": "display_data"
    }
   ],
   "source": [
    "x = y = z = -1:0.2:1\n",
    "vol1 = [ix * iy * iz for ix in x, iy in y, iz in z]\n",
    "points3d = [Point3f(ix, iy, iz) for ix in x, iy in y, iz in z];\n",
    "# colormap\n",
    "alphas = [x^2 for x in range(-1, 1, length = 101)]\n",
    "cmap_alpha = resample_cmap(:Hiroshige, 101; alpha = alphas)"
   ]
  },
  {
   "cell_type": "code",
   "execution_count": 118,
   "metadata": {},
   "outputs": [],
   "source": [
    "fig = Figure(resolution = (500, 500))\n",
    "ax = Axis3(fig[1, 1], perspectiveness = 0.5, azimuth = 7.38,\n",
    "    elevation = 0.57, aspect = (1, 1, 1))\n",
    "meshscatter!(ax, vec(points3d); color = vec(vol1), colormap = cmap_alpha)\n",
    "fig"
   ]
  },
  {
   "cell_type": "markdown",
   "metadata": {},
   "source": []
  }
 ],
 "metadata": {
  "kernelspec": {
   "display_name": "Julia 1.9.3",
   "language": "julia",
   "name": "julia-1.9"
  },
  "language_info": {
   "file_extension": ".jl",
   "mimetype": "application/julia",
   "name": "julia",
   "version": "1.9.3"
  }
 },
 "nbformat": 4,
 "nbformat_minor": 2
}
